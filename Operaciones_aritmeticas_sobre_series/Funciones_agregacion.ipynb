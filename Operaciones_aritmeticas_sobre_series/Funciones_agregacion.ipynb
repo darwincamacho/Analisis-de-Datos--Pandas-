{
 "cells": [
  {
   "cell_type": "markdown",
   "id": "fbba7ef2",
   "metadata": {},
   "source": [
    "## Funciones de Agregacion\n",
    "\n",
    "utilizando el metodo groupby"
   ]
  },
  {
   "cell_type": "code",
   "execution_count": 2,
   "id": "aa7b3583",
   "metadata": {},
   "outputs": [
    {
     "data": {
      "text/html": [
       "<div>\n",
       "<style scoped>\n",
       "    .dataframe tbody tr th:only-of-type {\n",
       "        vertical-align: middle;\n",
       "    }\n",
       "\n",
       "    .dataframe tbody tr th {\n",
       "        vertical-align: top;\n",
       "    }\n",
       "\n",
       "    .dataframe thead th {\n",
       "        text-align: right;\n",
       "    }\n",
       "</style>\n",
       "<table border=\"1\" class=\"dataframe\">\n",
       "  <thead>\n",
       "    <tr style=\"text-align: right;\">\n",
       "      <th></th>\n",
       "      <th>Categoria</th>\n",
       "      <th>Valor</th>\n",
       "      <th>Cantidad</th>\n",
       "    </tr>\n",
       "  </thead>\n",
       "  <tbody>\n",
       "    <tr>\n",
       "      <th>0</th>\n",
       "      <td>A</td>\n",
       "      <td>10</td>\n",
       "      <td>1</td>\n",
       "    </tr>\n",
       "    <tr>\n",
       "      <th>1</th>\n",
       "      <td>B</td>\n",
       "      <td>20</td>\n",
       "      <td>2</td>\n",
       "    </tr>\n",
       "    <tr>\n",
       "      <th>2</th>\n",
       "      <td>A</td>\n",
       "      <td>30</td>\n",
       "      <td>1</td>\n",
       "    </tr>\n",
       "    <tr>\n",
       "      <th>3</th>\n",
       "      <td>B</td>\n",
       "      <td>40</td>\n",
       "      <td>2</td>\n",
       "    </tr>\n",
       "    <tr>\n",
       "      <th>4</th>\n",
       "      <td>A</td>\n",
       "      <td>50</td>\n",
       "      <td>1</td>\n",
       "    </tr>\n",
       "    <tr>\n",
       "      <th>5</th>\n",
       "      <td>B</td>\n",
       "      <td>60</td>\n",
       "      <td>2</td>\n",
       "    </tr>\n",
       "  </tbody>\n",
       "</table>\n",
       "</div>"
      ],
      "text/plain": [
       "  Categoria  Valor  Cantidad\n",
       "0         A     10         1\n",
       "1         B     20         2\n",
       "2         A     30         1\n",
       "3         B     40         2\n",
       "4         A     50         1\n",
       "5         B     60         2"
      ]
     },
     "execution_count": 2,
     "metadata": {},
     "output_type": "execute_result"
    }
   ],
   "source": [
    "#generacion de la base de datos\n",
    "\n",
    "import pandas as pd\n",
    "\n",
    "data={\n",
    "    'Categoria':['A','B','A','B','A','B'],\n",
    "    'Valor':[10,20,30,40,50,60],\n",
    "    'Cantidad':[1,2,1,2,1,2]\n",
    "}\n",
    "df=pd.DataFrame(data)\n",
    "df"
   ]
  },
  {
   "cell_type": "code",
   "execution_count": 4,
   "id": "a46f354e",
   "metadata": {},
   "outputs": [
    {
     "data": {
      "text/plain": [
       "Categoria\n",
       "A     90\n",
       "B    120\n",
       "Name: Valor, dtype: int64"
      ]
     },
     "execution_count": 4,
     "metadata": {},
     "output_type": "execute_result"
    }
   ],
   "source": [
    "\"\"\"groupby + suma\"\"\"\n",
    "#calcula la suma de valores de un la categoria\n",
    "\n",
    "cal_sum_categ=df.groupby('Categoria')['Valor'].sum()\n",
    "cal_sum_categ"
   ]
  },
  {
   "cell_type": "code",
   "execution_count": 5,
   "id": "fd6f4cfa",
   "metadata": {},
   "outputs": [
    {
     "data": {
      "text/plain": [
       "Categoria\n",
       "A    30.0\n",
       "B    40.0\n",
       "Name: Valor, dtype: float64"
      ]
     },
     "execution_count": 5,
     "metadata": {},
     "output_type": "execute_result"
    }
   ],
   "source": [
    "\"\"\"Hallar la media por categoria\"\"\"\n",
    "\n",
    "media_por_cat=df.groupby('Categoria')['Valor'].mean()\n",
    "media_por_cat"
   ]
  },
  {
   "cell_type": "code",
   "execution_count": null,
   "id": "1534fddc",
   "metadata": {},
   "outputs": [
    {
     "data": {
      "text/plain": [
       "Categoria\n",
       "A    3\n",
       "B    3\n",
       "Name: Valor, dtype: int64"
      ]
     },
     "execution_count": 6,
     "metadata": {},
     "output_type": "execute_result"
    }
   ],
   "source": [
    "count_cat=df.groupby('Categoria')['Valor'].count()\n",
    "count_cat\n",
    "\n",
    "#aca se ve que si se cumple la media"
   ]
  },
  {
   "cell_type": "markdown",
   "id": "4dbca63e",
   "metadata": {},
   "source": [
    "## Multiples funciones de agregacion .agg()"
   ]
  },
  {
   "cell_type": "code",
   "execution_count": 7,
   "id": "3040d7a7",
   "metadata": {},
   "outputs": [
    {
     "data": {
      "text/html": [
       "<div>\n",
       "<style scoped>\n",
       "    .dataframe tbody tr th:only-of-type {\n",
       "        vertical-align: middle;\n",
       "    }\n",
       "\n",
       "    .dataframe tbody tr th {\n",
       "        vertical-align: top;\n",
       "    }\n",
       "\n",
       "    .dataframe thead th {\n",
       "        text-align: right;\n",
       "    }\n",
       "</style>\n",
       "<table border=\"1\" class=\"dataframe\">\n",
       "  <thead>\n",
       "    <tr style=\"text-align: right;\">\n",
       "      <th></th>\n",
       "      <th>sum</th>\n",
       "      <th>mean</th>\n",
       "      <th>count</th>\n",
       "    </tr>\n",
       "    <tr>\n",
       "      <th>Categoria</th>\n",
       "      <th></th>\n",
       "      <th></th>\n",
       "      <th></th>\n",
       "    </tr>\n",
       "  </thead>\n",
       "  <tbody>\n",
       "    <tr>\n",
       "      <th>A</th>\n",
       "      <td>90</td>\n",
       "      <td>30.0</td>\n",
       "      <td>3</td>\n",
       "    </tr>\n",
       "    <tr>\n",
       "      <th>B</th>\n",
       "      <td>120</td>\n",
       "      <td>40.0</td>\n",
       "      <td>3</td>\n",
       "    </tr>\n",
       "  </tbody>\n",
       "</table>\n",
       "</div>"
      ],
      "text/plain": [
       "           sum  mean  count\n",
       "Categoria                  \n",
       "A           90  30.0      3\n",
       "B          120  40.0      3"
      ]
     },
     "execution_count": 7,
     "metadata": {},
     "output_type": "execute_result"
    }
   ],
   "source": [
    "\"\"\"hallar la suma, la media y cuenta los ingresos de cada categoria\"\"\"\n",
    "\n",
    "agregados_categoria=df.groupby('Categoria')['Valor'].agg(['sum','mean','count'])\n",
    "agregados_categoria"
   ]
  },
  {
   "cell_type": "code",
   "execution_count": null,
   "id": "ab4ebcbc",
   "metadata": {},
   "outputs": [
    {
     "data": {
      "text/html": [
       "<div>\n",
       "<style scoped>\n",
       "    .dataframe tbody tr th:only-of-type {\n",
       "        vertical-align: middle;\n",
       "    }\n",
       "\n",
       "    .dataframe tbody tr th {\n",
       "        vertical-align: top;\n",
       "    }\n",
       "\n",
       "    .dataframe thead th {\n",
       "        text-align: right;\n",
       "    }\n",
       "</style>\n",
       "<table border=\"1\" class=\"dataframe\">\n",
       "  <thead>\n",
       "    <tr style=\"text-align: right;\">\n",
       "      <th></th>\n",
       "      <th>Categoria</th>\n",
       "      <th>Valor</th>\n",
       "      <th>Cantidad</th>\n",
       "      <th>Grupo</th>\n",
       "    </tr>\n",
       "  </thead>\n",
       "  <tbody>\n",
       "    <tr>\n",
       "      <th>0</th>\n",
       "      <td>A</td>\n",
       "      <td>10</td>\n",
       "      <td>1</td>\n",
       "      <td>G1</td>\n",
       "    </tr>\n",
       "    <tr>\n",
       "      <th>1</th>\n",
       "      <td>B</td>\n",
       "      <td>20</td>\n",
       "      <td>2</td>\n",
       "      <td>G1</td>\n",
       "    </tr>\n",
       "    <tr>\n",
       "      <th>2</th>\n",
       "      <td>A</td>\n",
       "      <td>30</td>\n",
       "      <td>1</td>\n",
       "      <td>G2</td>\n",
       "    </tr>\n",
       "    <tr>\n",
       "      <th>3</th>\n",
       "      <td>B</td>\n",
       "      <td>40</td>\n",
       "      <td>2</td>\n",
       "      <td>G2</td>\n",
       "    </tr>\n",
       "    <tr>\n",
       "      <th>4</th>\n",
       "      <td>A</td>\n",
       "      <td>50</td>\n",
       "      <td>1</td>\n",
       "      <td>G1</td>\n",
       "    </tr>\n",
       "    <tr>\n",
       "      <th>5</th>\n",
       "      <td>B</td>\n",
       "      <td>60</td>\n",
       "      <td>2</td>\n",
       "      <td>G2</td>\n",
       "    </tr>\n",
       "  </tbody>\n",
       "</table>\n",
       "</div>"
      ],
      "text/plain": [
       "  Categoria  Valor  Cantidad Grupo\n",
       "0         A     10         1    G1\n",
       "1         B     20         2    G1\n",
       "2         A     30         1    G2\n",
       "3         B     40         2    G2\n",
       "4         A     50         1    G1\n",
       "5         B     60         2    G2"
      ]
     },
     "execution_count": 8,
     "metadata": {},
     "output_type": "execute_result"
    }
   ],
   "source": [
    "\"\"\"Agregar nueva columna al DataFrame llamada grupo\"\"\"\n",
    "\n",
    "data['Grupo']=['G1','G1','G2','G2','G1','G2']\n",
    "df=pd.DataFrame(data)\n",
    "df"
   ]
  },
  {
   "cell_type": "code",
   "execution_count": 10,
   "id": "9abb8593",
   "metadata": {},
   "outputs": [
    {
     "data": {
      "text/html": [
       "<div>\n",
       "<style scoped>\n",
       "    .dataframe tbody tr th:only-of-type {\n",
       "        vertical-align: middle;\n",
       "    }\n",
       "\n",
       "    .dataframe tbody tr th {\n",
       "        vertical-align: top;\n",
       "    }\n",
       "\n",
       "    .dataframe thead th {\n",
       "        text-align: right;\n",
       "    }\n",
       "</style>\n",
       "<table border=\"1\" class=\"dataframe\">\n",
       "  <thead>\n",
       "    <tr style=\"text-align: right;\">\n",
       "      <th></th>\n",
       "      <th>Categoria</th>\n",
       "      <th>Valor</th>\n",
       "      <th>Cantidad</th>\n",
       "      <th>Grupo</th>\n",
       "      <th>Calculada</th>\n",
       "    </tr>\n",
       "  </thead>\n",
       "  <tbody>\n",
       "    <tr>\n",
       "      <th>0</th>\n",
       "      <td>A</td>\n",
       "      <td>10</td>\n",
       "      <td>1</td>\n",
       "      <td>G1</td>\n",
       "      <td>10</td>\n",
       "    </tr>\n",
       "    <tr>\n",
       "      <th>1</th>\n",
       "      <td>B</td>\n",
       "      <td>20</td>\n",
       "      <td>2</td>\n",
       "      <td>G1</td>\n",
       "      <td>40</td>\n",
       "    </tr>\n",
       "    <tr>\n",
       "      <th>2</th>\n",
       "      <td>A</td>\n",
       "      <td>30</td>\n",
       "      <td>1</td>\n",
       "      <td>G2</td>\n",
       "      <td>30</td>\n",
       "    </tr>\n",
       "    <tr>\n",
       "      <th>3</th>\n",
       "      <td>B</td>\n",
       "      <td>40</td>\n",
       "      <td>2</td>\n",
       "      <td>G2</td>\n",
       "      <td>80</td>\n",
       "    </tr>\n",
       "    <tr>\n",
       "      <th>4</th>\n",
       "      <td>A</td>\n",
       "      <td>50</td>\n",
       "      <td>1</td>\n",
       "      <td>G1</td>\n",
       "      <td>50</td>\n",
       "    </tr>\n",
       "    <tr>\n",
       "      <th>5</th>\n",
       "      <td>B</td>\n",
       "      <td>60</td>\n",
       "      <td>2</td>\n",
       "      <td>G2</td>\n",
       "      <td>120</td>\n",
       "    </tr>\n",
       "  </tbody>\n",
       "</table>\n",
       "</div>"
      ],
      "text/plain": [
       "  Categoria  Valor  Cantidad Grupo  Calculada\n",
       "0         A     10         1    G1         10\n",
       "1         B     20         2    G1         40\n",
       "2         A     30         1    G2         30\n",
       "3         B     40         2    G2         80\n",
       "4         A     50         1    G1         50\n",
       "5         B     60         2    G2        120"
      ]
     },
     "execution_count": 10,
     "metadata": {},
     "output_type": "execute_result"
    }
   ],
   "source": [
    "\"\"\"Aumentar una columna calculada, agregar Total= valor*cantidad\"\"\"\n",
    "\n",
    "df['Calculada']=df['Valor']*df['Cantidad']\n",
    "df"
   ]
  },
  {
   "cell_type": "code",
   "execution_count": 13,
   "id": "fabfeb1d",
   "metadata": {},
   "outputs": [
    {
     "data": {
      "text/plain": [
       "Grupo  Categoria\n",
       "G1     A             60\n",
       "       B             20\n",
       "G2     A             30\n",
       "       B            100\n",
       "Name: Valor, dtype: int64"
      ]
     },
     "execution_count": 13,
     "metadata": {},
     "output_type": "execute_result"
    }
   ],
   "source": [
    "\"\"\"Agrupar por 'Grupo y 'Categoria' y sumar los valores\"\"\"\n",
    "\n",
    "suma_grupo_categoria=df.groupby(['Grupo','Categoria'])['Valor'].sum()\n",
    "suma_grupo_categoria"
   ]
  },
  {
   "cell_type": "markdown",
   "id": "6c108aef",
   "metadata": {},
   "source": [
    "## Ejercicio practico para el analisis de tendencia"
   ]
  },
  {
   "cell_type": "code",
   "execution_count": 20,
   "id": "3f9c6cae",
   "metadata": {},
   "outputs": [
    {
     "data": {
      "text/html": [
       "<div>\n",
       "<style scoped>\n",
       "    .dataframe tbody tr th:only-of-type {\n",
       "        vertical-align: middle;\n",
       "    }\n",
       "\n",
       "    .dataframe tbody tr th {\n",
       "        vertical-align: top;\n",
       "    }\n",
       "\n",
       "    .dataframe thead th {\n",
       "        text-align: right;\n",
       "    }\n",
       "</style>\n",
       "<table border=\"1\" class=\"dataframe\">\n",
       "  <thead>\n",
       "    <tr style=\"text-align: right;\">\n",
       "      <th></th>\n",
       "      <th>Fecha</th>\n",
       "      <th>Producto</th>\n",
       "      <th>Categoria</th>\n",
       "      <th>Ventas</th>\n",
       "    </tr>\n",
       "  </thead>\n",
       "  <tbody>\n",
       "    <tr>\n",
       "      <th>0</th>\n",
       "      <td>2024-01-10</td>\n",
       "      <td>Producto A</td>\n",
       "      <td>Electronica</td>\n",
       "      <td>100</td>\n",
       "    </tr>\n",
       "    <tr>\n",
       "      <th>1</th>\n",
       "      <td>2024-01-10</td>\n",
       "      <td>Producto B</td>\n",
       "      <td>Ropa</td>\n",
       "      <td>150</td>\n",
       "    </tr>\n",
       "    <tr>\n",
       "      <th>2</th>\n",
       "      <td>2024-02-10</td>\n",
       "      <td>Producto A</td>\n",
       "      <td>Electronica</td>\n",
       "      <td>200</td>\n",
       "    </tr>\n",
       "    <tr>\n",
       "      <th>3</th>\n",
       "      <td>2024-02-10</td>\n",
       "      <td>Producto B</td>\n",
       "      <td>Ropa</td>\n",
       "      <td>100</td>\n",
       "    </tr>\n",
       "    <tr>\n",
       "      <th>4</th>\n",
       "      <td>2024-03-10</td>\n",
       "      <td>Producto A</td>\n",
       "      <td>Electronica</td>\n",
       "      <td>300</td>\n",
       "    </tr>\n",
       "    <tr>\n",
       "      <th>5</th>\n",
       "      <td>2024-03-10</td>\n",
       "      <td>Producto B</td>\n",
       "      <td>Ropa</td>\n",
       "      <td>250</td>\n",
       "    </tr>\n",
       "  </tbody>\n",
       "</table>\n",
       "</div>"
      ],
      "text/plain": [
       "       Fecha    Producto    Categoria  Ventas\n",
       "0 2024-01-10  Producto A  Electronica     100\n",
       "1 2024-01-10  Producto B         Ropa     150\n",
       "2 2024-02-10  Producto A  Electronica     200\n",
       "3 2024-02-10  Producto B         Ropa     100\n",
       "4 2024-03-10  Producto A  Electronica     300\n",
       "5 2024-03-10  Producto B         Ropa     250"
      ]
     },
     "execution_count": 20,
     "metadata": {},
     "output_type": "execute_result"
    }
   ],
   "source": [
    "datos_ventas={\n",
    "    'Fecha':['2024-10-01','2024-10-01','2024-10-02','2024-10-02','2024-10-03','2024-10-03'],\n",
    "    'Producto':['Producto A','Producto B','Producto A','Producto B','Producto A','Producto B'],\n",
    "    'Categoria':['Electronica','Ropa','Electronica','Ropa','Electronica','Ropa'],\n",
    "    'Ventas':[100,150,200,100,300,250]\n",
    "}\n",
    "df_ventas=pd.DataFrame(datos_ventas)\n",
    "df_ventas['Fecha']=pd.to_datetime(df_ventas['Fecha'],dayfirst=True)\n",
    "df_ventas['Ventas']=pd.to_numeric(df_ventas['Ventas'],errors='coerce')\n",
    "df_ventas"
   ]
  },
  {
   "cell_type": "code",
   "execution_count": 21,
   "id": "325a5d31",
   "metadata": {},
   "outputs": [
    {
     "data": {
      "text/plain": [
       "Fecha        datetime64[ns]\n",
       "Producto             object\n",
       "Categoria            object\n",
       "Ventas                int64\n",
       "dtype: object"
      ]
     },
     "execution_count": 21,
     "metadata": {},
     "output_type": "execute_result"
    }
   ],
   "source": [
    "df_ventas.dtypes"
   ]
  },
  {
   "cell_type": "code",
   "execution_count": 25,
   "id": "dc812aee",
   "metadata": {},
   "outputs": [
    {
     "data": {
      "text/plain": [
       "Index(['Fecha', 'Producto', 'Categoria', 'Ventas'], dtype='object')"
      ]
     },
     "execution_count": 25,
     "metadata": {},
     "output_type": "execute_result"
    }
   ],
   "source": [
    "df_ventas.columns"
   ]
  },
  {
   "cell_type": "code",
   "execution_count": 27,
   "id": "f34e5267",
   "metadata": {},
   "outputs": [
    {
     "data": {
      "text/plain": [
       "Categoria\n",
       "Electronica    600\n",
       "Ropa           500\n",
       "Name: Ventas, dtype: int64"
      ]
     },
     "execution_count": 27,
     "metadata": {},
     "output_type": "execute_result"
    }
   ],
   "source": [
    "\"\"\"Sumar las ventas por categoria\"\"\"\n",
    "\n",
    "suma_ventas=df_ventas.groupby('Categoria')['Ventas'].sum()\n",
    "suma_ventas"
   ]
  },
  {
   "cell_type": "code",
   "execution_count": 28,
   "id": "7d61d449",
   "metadata": {},
   "outputs": [
    {
     "data": {
      "text/plain": [
       "Fecha\n",
       "2024-01-10    250\n",
       "2024-02-10    300\n",
       "2024-03-10    550\n",
       "Name: Ventas, dtype: int64"
      ]
     },
     "execution_count": 28,
     "metadata": {},
     "output_type": "execute_result"
    }
   ],
   "source": [
    "\"\"\"Calcular que fecha tiene mayores ventas\"\"\"\n",
    "\n",
    "fecha_ventas=df_ventas.groupby('Fecha')['Ventas'].sum()\n",
    "fecha_ventas"
   ]
  },
  {
   "cell_type": "code",
   "execution_count": 29,
   "id": "4abe8589",
   "metadata": {},
   "outputs": [
    {
     "data": {
      "text/plain": [
       "Fecha       Producto  \n",
       "2024-01-10  Producto A    100\n",
       "            Producto B    150\n",
       "2024-02-10  Producto A    200\n",
       "            Producto B    100\n",
       "2024-03-10  Producto A    300\n",
       "            Producto B    250\n",
       "Name: Ventas, dtype: int64"
      ]
     },
     "execution_count": 29,
     "metadata": {},
     "output_type": "execute_result"
    }
   ],
   "source": [
    "\"\"\"Analizar por fechas que productos son los que se vendieron mas\"\"\"\n",
    "\n",
    "ventas_fecha_producto=df_ventas.groupby(['Fecha','Producto'])['Ventas'].sum()\n",
    "ventas_fecha_producto"
   ]
  }
 ],
 "metadata": {
  "kernelspec": {
   "display_name": ".venv",
   "language": "python",
   "name": "python3"
  },
  "language_info": {
   "codemirror_mode": {
    "name": "ipython",
    "version": 3
   },
   "file_extension": ".py",
   "mimetype": "text/x-python",
   "name": "python",
   "nbconvert_exporter": "python",
   "pygments_lexer": "ipython3",
   "version": "3.13.5"
  }
 },
 "nbformat": 4,
 "nbformat_minor": 5
}
