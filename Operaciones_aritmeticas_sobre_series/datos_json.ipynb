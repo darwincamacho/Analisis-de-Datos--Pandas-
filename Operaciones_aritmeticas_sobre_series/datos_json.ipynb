{
 "cells": [
  {
   "cell_type": "markdown",
   "id": "82830dd1",
   "metadata": {},
   "source": [
    "## JSON\n",
    "\n",
    "no importa el origen de los datos si la informacion esta en formato json"
   ]
  },
  {
   "cell_type": "code",
   "execution_count": 12,
   "id": "cad72590",
   "metadata": {},
   "outputs": [],
   "source": [
    "cars=[\n",
    "    {'name':'honda','price':10000,'model':2020,'power':1300},\n",
    "    {'name':'toyota','price':12000,'model':2021,'power':1500},\n",
    "    {'name':'audi','price':15000,'model':2022,'power':1700},\n",
    "    {'name':'ford','price':17000,'model':2020,'power':1700},\n",
    "    {'name':'ford','price':18000,'model':2021,'power':1800},\n",
    "    {'name':'ford','price':19000,'model':2021,'power':1900},\n",
    "]"
   ]
  },
  {
   "cell_type": "code",
   "execution_count": 13,
   "id": "dc15c272",
   "metadata": {},
   "outputs": [],
   "source": [
    "\"\"\"Generar o volver a escribir la lista en formato json\"\"\"\n",
    "\n",
    "import json\n",
    "\n",
    "with open('cars.json','w') as f:\n",
    "    \n",
    "    json.dump(cars,f,indent=4)"
   ]
  },
  {
   "cell_type": "code",
   "execution_count": 14,
   "id": "8f04de3f",
   "metadata": {},
   "outputs": [
    {
     "data": {
      "text/html": [
       "<div>\n",
       "<style scoped>\n",
       "    .dataframe tbody tr th:only-of-type {\n",
       "        vertical-align: middle;\n",
       "    }\n",
       "\n",
       "    .dataframe tbody tr th {\n",
       "        vertical-align: top;\n",
       "    }\n",
       "\n",
       "    .dataframe thead th {\n",
       "        text-align: right;\n",
       "    }\n",
       "</style>\n",
       "<table border=\"1\" class=\"dataframe\">\n",
       "  <thead>\n",
       "    <tr style=\"text-align: right;\">\n",
       "      <th></th>\n",
       "      <th>name</th>\n",
       "      <th>price</th>\n",
       "      <th>model</th>\n",
       "      <th>power</th>\n",
       "    </tr>\n",
       "  </thead>\n",
       "  <tbody>\n",
       "    <tr>\n",
       "      <th>0</th>\n",
       "      <td>honda</td>\n",
       "      <td>10000</td>\n",
       "      <td>2020</td>\n",
       "      <td>1300</td>\n",
       "    </tr>\n",
       "    <tr>\n",
       "      <th>1</th>\n",
       "      <td>toyota</td>\n",
       "      <td>12000</td>\n",
       "      <td>2021</td>\n",
       "      <td>1500</td>\n",
       "    </tr>\n",
       "    <tr>\n",
       "      <th>2</th>\n",
       "      <td>audi</td>\n",
       "      <td>15000</td>\n",
       "      <td>2022</td>\n",
       "      <td>1700</td>\n",
       "    </tr>\n",
       "    <tr>\n",
       "      <th>3</th>\n",
       "      <td>ford</td>\n",
       "      <td>17000</td>\n",
       "      <td>2020</td>\n",
       "      <td>1700</td>\n",
       "    </tr>\n",
       "    <tr>\n",
       "      <th>4</th>\n",
       "      <td>ford</td>\n",
       "      <td>18000</td>\n",
       "      <td>2021</td>\n",
       "      <td>1800</td>\n",
       "    </tr>\n",
       "    <tr>\n",
       "      <th>5</th>\n",
       "      <td>ford</td>\n",
       "      <td>19000</td>\n",
       "      <td>2021</td>\n",
       "      <td>1900</td>\n",
       "    </tr>\n",
       "  </tbody>\n",
       "</table>\n",
       "</div>"
      ],
      "text/plain": [
       "     name  price  model  power\n",
       "0   honda  10000   2020   1300\n",
       "1  toyota  12000   2021   1500\n",
       "2    audi  15000   2022   1700\n",
       "3    ford  17000   2020   1700\n",
       "4    ford  18000   2021   1800\n",
       "5    ford  19000   2021   1900"
      ]
     },
     "execution_count": 14,
     "metadata": {},
     "output_type": "execute_result"
    }
   ],
   "source": [
    "import pandas as pd\n",
    "\n",
    "df_autos=pd.read_json('cars.json')\n",
    "df_autos"
   ]
  },
  {
   "cell_type": "code",
   "execution_count": 15,
   "id": "435784f9",
   "metadata": {},
   "outputs": [
    {
     "data": {
      "text/html": [
       "<div>\n",
       "<style scoped>\n",
       "    .dataframe tbody tr th:only-of-type {\n",
       "        vertical-align: middle;\n",
       "    }\n",
       "\n",
       "    .dataframe tbody tr th {\n",
       "        vertical-align: top;\n",
       "    }\n",
       "\n",
       "    .dataframe thead th {\n",
       "        text-align: right;\n",
       "    }\n",
       "</style>\n",
       "<table border=\"1\" class=\"dataframe\">\n",
       "  <thead>\n",
       "    <tr style=\"text-align: right;\">\n",
       "      <th></th>\n",
       "      <th>name</th>\n",
       "      <th>price</th>\n",
       "      <th>model</th>\n",
       "      <th>power</th>\n",
       "    </tr>\n",
       "  </thead>\n",
       "  <tbody>\n",
       "    <tr>\n",
       "      <th>1</th>\n",
       "      <td>toyota</td>\n",
       "      <td>12000</td>\n",
       "      <td>2021</td>\n",
       "      <td>1500</td>\n",
       "    </tr>\n",
       "    <tr>\n",
       "      <th>2</th>\n",
       "      <td>audi</td>\n",
       "      <td>15000</td>\n",
       "      <td>2022</td>\n",
       "      <td>1700</td>\n",
       "    </tr>\n",
       "    <tr>\n",
       "      <th>3</th>\n",
       "      <td>ford</td>\n",
       "      <td>17000</td>\n",
       "      <td>2020</td>\n",
       "      <td>1700</td>\n",
       "    </tr>\n",
       "    <tr>\n",
       "      <th>4</th>\n",
       "      <td>ford</td>\n",
       "      <td>18000</td>\n",
       "      <td>2021</td>\n",
       "      <td>1800</td>\n",
       "    </tr>\n",
       "    <tr>\n",
       "      <th>5</th>\n",
       "      <td>ford</td>\n",
       "      <td>19000</td>\n",
       "      <td>2021</td>\n",
       "      <td>1900</td>\n",
       "    </tr>\n",
       "  </tbody>\n",
       "</table>\n",
       "</div>"
      ],
      "text/plain": [
       "     name  price  model  power\n",
       "1  toyota  12000   2021   1500\n",
       "2    audi  15000   2022   1700\n",
       "3    ford  17000   2020   1700\n",
       "4    ford  18000   2021   1800\n",
       "5    ford  19000   2021   1900"
      ]
     },
     "execution_count": 15,
     "metadata": {},
     "output_type": "execute_result"
    }
   ],
   "source": [
    "gama_alta=df_autos[df_autos['power']>1300]\n",
    "gama_alta"
   ]
  },
  {
   "cell_type": "markdown",
   "id": "f847da90",
   "metadata": {},
   "source": [
    "### DOBLE CONDICIONAL\n",
    "\n",
    "cada condicional va dentro de parentesis"
   ]
  },
  {
   "cell_type": "code",
   "execution_count": 16,
   "id": "efc6d608",
   "metadata": {},
   "outputs": [
    {
     "data": {
      "text/html": [
       "<div>\n",
       "<style scoped>\n",
       "    .dataframe tbody tr th:only-of-type {\n",
       "        vertical-align: middle;\n",
       "    }\n",
       "\n",
       "    .dataframe tbody tr th {\n",
       "        vertical-align: top;\n",
       "    }\n",
       "\n",
       "    .dataframe thead th {\n",
       "        text-align: right;\n",
       "    }\n",
       "</style>\n",
       "<table border=\"1\" class=\"dataframe\">\n",
       "  <thead>\n",
       "    <tr style=\"text-align: right;\">\n",
       "      <th></th>\n",
       "      <th>name</th>\n",
       "      <th>price</th>\n",
       "      <th>model</th>\n",
       "      <th>power</th>\n",
       "    </tr>\n",
       "  </thead>\n",
       "  <tbody>\n",
       "    <tr>\n",
       "      <th>2</th>\n",
       "      <td>audi</td>\n",
       "      <td>15000</td>\n",
       "      <td>2022</td>\n",
       "      <td>1700</td>\n",
       "    </tr>\n",
       "    <tr>\n",
       "      <th>3</th>\n",
       "      <td>ford</td>\n",
       "      <td>17000</td>\n",
       "      <td>2020</td>\n",
       "      <td>1700</td>\n",
       "    </tr>\n",
       "    <tr>\n",
       "      <th>4</th>\n",
       "      <td>ford</td>\n",
       "      <td>18000</td>\n",
       "      <td>2021</td>\n",
       "      <td>1800</td>\n",
       "    </tr>\n",
       "    <tr>\n",
       "      <th>5</th>\n",
       "      <td>ford</td>\n",
       "      <td>19000</td>\n",
       "      <td>2021</td>\n",
       "      <td>1900</td>\n",
       "    </tr>\n",
       "  </tbody>\n",
       "</table>\n",
       "</div>"
      ],
      "text/plain": [
       "   name  price  model  power\n",
       "2  audi  15000   2022   1700\n",
       "3  ford  17000   2020   1700\n",
       "4  ford  18000   2021   1800\n",
       "5  ford  19000   2021   1900"
      ]
     },
     "execution_count": 16,
     "metadata": {},
     "output_type": "execute_result"
    }
   ],
   "source": [
    "gama_alta_precios=df_autos[(df_autos['power']>1300) & (df_autos['price']>12000)]\n",
    "gama_alta_precios"
   ]
  },
  {
   "cell_type": "code",
   "execution_count": 19,
   "id": "32c623c6",
   "metadata": {},
   "outputs": [
    {
     "data": {
      "text/plain": [
       "name\n",
       "audi      15000.0\n",
       "ford      18000.0\n",
       "honda     10000.0\n",
       "toyota    12000.0\n",
       "Name: price, dtype: float64"
      ]
     },
     "execution_count": 19,
     "metadata": {},
     "output_type": "execute_result"
    }
   ],
   "source": [
    "\"\"\"Agrupar por marca de carro y obtener el precio promedio\"\"\"\n",
    "\n",
    "prom_marca=df_autos.groupby('name')['price'].mean()\n",
    "prom_marca"
   ]
  }
 ],
 "metadata": {
  "kernelspec": {
   "display_name": ".venv",
   "language": "python",
   "name": "python3"
  },
  "language_info": {
   "codemirror_mode": {
    "name": "ipython",
    "version": 3
   },
   "file_extension": ".py",
   "mimetype": "text/x-python",
   "name": "python",
   "nbconvert_exporter": "python",
   "pygments_lexer": "ipython3",
   "version": "3.13.5"
  }
 },
 "nbformat": 4,
 "nbformat_minor": 5
}
