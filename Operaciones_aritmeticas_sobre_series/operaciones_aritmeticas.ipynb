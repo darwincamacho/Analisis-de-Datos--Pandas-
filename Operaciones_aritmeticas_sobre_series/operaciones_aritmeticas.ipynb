{
 "cells": [
  {
   "cell_type": "markdown",
   "id": "31100d84",
   "metadata": {},
   "source": [
    "## Operaciones aritmeticas en series"
   ]
  },
  {
   "cell_type": "code",
   "execution_count": 2,
   "id": "ec086cb7",
   "metadata": {},
   "outputs": [
    {
     "data": {
      "text/plain": [
       "0    11\n",
       "1    22\n",
       "2    33\n",
       "dtype: int64"
      ]
     },
     "execution_count": 2,
     "metadata": {},
     "output_type": "execute_result"
    }
   ],
   "source": [
    "\"\"\"SUMA\"\"\"\n",
    "\n",
    "import pandas as pd\n",
    "\n",
    "#si los indices de las series coinciden\n",
    "\n",
    "serie1=pd.Series([10,20,30])\n",
    "serie2=pd.Series([1,2,3])\n",
    "serie1+serie2\n",
    "\n",
    "\n"
   ]
  },
  {
   "cell_type": "markdown",
   "id": "3b11efd6",
   "metadata": {},
   "source": [
    "serie1 + serie2 crea una nueva Serie (resultado de la suma elemento a elemento).\n",
    "\n",
    "Al guardarla en una variable (suma_series), tú decides persistir ese resultado en memoria para poder:\n",
    "\n",
    "    .Imprimirlo (print(suma_series))\n",
    "\n",
    "    .Usarlo en otro cálculo (suma_series.mean())\n",
    "\n",
    "    .Pasarlo a otra función, guardarlo en un DataFrame, etc."
   ]
  },
  {
   "cell_type": "code",
   "execution_count": null,
   "id": "a395a122",
   "metadata": {},
   "outputs": [
    {
     "data": {
      "text/plain": [
       "0    11\n",
       "1    22\n",
       "2    33\n",
       "dtype: int64"
      ]
     },
     "execution_count": 3,
     "metadata": {},
     "output_type": "execute_result"
    }
   ],
   "source": [
    "suma_series=serie1+serie2\n",
    "suma_series\n",
    "\n",
    "#mismo resultado pero con una variable guardada en la memoria que se puede reutilizar"
   ]
  },
  {
   "cell_type": "code",
   "execution_count": 4,
   "id": "0fa7cb3b",
   "metadata": {},
   "outputs": [
    {
     "data": {
      "text/plain": [
       "0     9\n",
       "1    18\n",
       "2    27\n",
       "dtype: int64"
      ]
     },
     "execution_count": 4,
     "metadata": {},
     "output_type": "execute_result"
    }
   ],
   "source": [
    "\"\"\"resta de series\"\"\"\n",
    "\n",
    "resta_series=serie1-serie2\n",
    "resta_series"
   ]
  },
  {
   "cell_type": "code",
   "execution_count": 5,
   "id": "ffcffc53",
   "metadata": {},
   "outputs": [
    {
     "data": {
      "text/plain": [
       "0    10\n",
       "1    40\n",
       "2    90\n",
       "dtype: int64"
      ]
     },
     "execution_count": 5,
     "metadata": {},
     "output_type": "execute_result"
    }
   ],
   "source": [
    "\"\"\"multiplicacion de series\"\"\"\n",
    "\n",
    "multiplicacion_series=serie1*serie2\n",
    "multiplicacion_series"
   ]
  },
  {
   "cell_type": "code",
   "execution_count": 6,
   "id": "b67adc94",
   "metadata": {},
   "outputs": [
    {
     "data": {
      "text/plain": [
       "0    10.0\n",
       "1    10.0\n",
       "2    10.0\n",
       "dtype: float64"
      ]
     },
     "execution_count": 6,
     "metadata": {},
     "output_type": "execute_result"
    }
   ],
   "source": [
    "\"\"\"division de series\"\"\"\n",
    "\n",
    "division_series=serie1/serie2\n",
    "division_series"
   ]
  },
  {
   "cell_type": "markdown",
   "id": "ac20b40c",
   "metadata": {},
   "source": [
    "## Operaciones aridmeticas en DataFrame"
   ]
  },
  {
   "cell_type": "code",
   "execution_count": null,
   "id": "a2cbd13c",
   "metadata": {},
   "outputs": [],
   "source": [
    "\"\"\"Crear los dataframe\"\"\"\n",
    "\n",
    "#metodo 1\n",
    "df_1=pd.DataFrame({\n",
    "    'A':[1,2,3],\n",
    "    'B':[4,5,6]\n",
    "})\n",
    "#metodo 2: tambien se puede crear asi\n",
    "data={\n",
    "    'A':[10,20,30],\n",
    "    'B':[40,50,60]\n",
    "}\n",
    "df_2=pd.DataFrame(data)\n",
    "\n",
    "#ambos metodos son los mismo"
   ]
  },
  {
   "cell_type": "code",
   "execution_count": 8,
   "id": "b9a9816c",
   "metadata": {},
   "outputs": [
    {
     "data": {
      "text/html": [
       "<div>\n",
       "<style scoped>\n",
       "    .dataframe tbody tr th:only-of-type {\n",
       "        vertical-align: middle;\n",
       "    }\n",
       "\n",
       "    .dataframe tbody tr th {\n",
       "        vertical-align: top;\n",
       "    }\n",
       "\n",
       "    .dataframe thead th {\n",
       "        text-align: right;\n",
       "    }\n",
       "</style>\n",
       "<table border=\"1\" class=\"dataframe\">\n",
       "  <thead>\n",
       "    <tr style=\"text-align: right;\">\n",
       "      <th></th>\n",
       "      <th>A</th>\n",
       "      <th>B</th>\n",
       "    </tr>\n",
       "  </thead>\n",
       "  <tbody>\n",
       "    <tr>\n",
       "      <th>0</th>\n",
       "      <td>11</td>\n",
       "      <td>44</td>\n",
       "    </tr>\n",
       "    <tr>\n",
       "      <th>1</th>\n",
       "      <td>22</td>\n",
       "      <td>55</td>\n",
       "    </tr>\n",
       "    <tr>\n",
       "      <th>2</th>\n",
       "      <td>33</td>\n",
       "      <td>66</td>\n",
       "    </tr>\n",
       "  </tbody>\n",
       "</table>\n",
       "</div>"
      ],
      "text/plain": [
       "    A   B\n",
       "0  11  44\n",
       "1  22  55\n",
       "2  33  66"
      ]
     },
     "execution_count": 8,
     "metadata": {},
     "output_type": "execute_result"
    }
   ],
   "source": [
    "\"\"\"Suma\"\"\"\n",
    "\n",
    "suma_df=df_1+df_2\n",
    "suma_df"
   ]
  },
  {
   "cell_type": "code",
   "execution_count": 9,
   "id": "b2e4b6c7",
   "metadata": {},
   "outputs": [
    {
     "data": {
      "text/html": [
       "<div>\n",
       "<style scoped>\n",
       "    .dataframe tbody tr th:only-of-type {\n",
       "        vertical-align: middle;\n",
       "    }\n",
       "\n",
       "    .dataframe tbody tr th {\n",
       "        vertical-align: top;\n",
       "    }\n",
       "\n",
       "    .dataframe thead th {\n",
       "        text-align: right;\n",
       "    }\n",
       "</style>\n",
       "<table border=\"1\" class=\"dataframe\">\n",
       "  <thead>\n",
       "    <tr style=\"text-align: right;\">\n",
       "      <th></th>\n",
       "      <th>A</th>\n",
       "      <th>B</th>\n",
       "    </tr>\n",
       "  </thead>\n",
       "  <tbody>\n",
       "    <tr>\n",
       "      <th>0</th>\n",
       "      <td>-9</td>\n",
       "      <td>-36</td>\n",
       "    </tr>\n",
       "    <tr>\n",
       "      <th>1</th>\n",
       "      <td>-18</td>\n",
       "      <td>-45</td>\n",
       "    </tr>\n",
       "    <tr>\n",
       "      <th>2</th>\n",
       "      <td>-27</td>\n",
       "      <td>-54</td>\n",
       "    </tr>\n",
       "  </tbody>\n",
       "</table>\n",
       "</div>"
      ],
      "text/plain": [
       "    A   B\n",
       "0  -9 -36\n",
       "1 -18 -45\n",
       "2 -27 -54"
      ]
     },
     "execution_count": 9,
     "metadata": {},
     "output_type": "execute_result"
    }
   ],
   "source": [
    "\"\"\"Resta\"\"\"\n",
    "\n",
    "resta_df=df_1-df_2\n",
    "resta_df"
   ]
  },
  {
   "cell_type": "code",
   "execution_count": 10,
   "id": "fd95b18d",
   "metadata": {},
   "outputs": [
    {
     "data": {
      "text/html": [
       "<div>\n",
       "<style scoped>\n",
       "    .dataframe tbody tr th:only-of-type {\n",
       "        vertical-align: middle;\n",
       "    }\n",
       "\n",
       "    .dataframe tbody tr th {\n",
       "        vertical-align: top;\n",
       "    }\n",
       "\n",
       "    .dataframe thead th {\n",
       "        text-align: right;\n",
       "    }\n",
       "</style>\n",
       "<table border=\"1\" class=\"dataframe\">\n",
       "  <thead>\n",
       "    <tr style=\"text-align: right;\">\n",
       "      <th></th>\n",
       "      <th>A</th>\n",
       "      <th>B</th>\n",
       "    </tr>\n",
       "  </thead>\n",
       "  <tbody>\n",
       "    <tr>\n",
       "      <th>0</th>\n",
       "      <td>10</td>\n",
       "      <td>160</td>\n",
       "    </tr>\n",
       "    <tr>\n",
       "      <th>1</th>\n",
       "      <td>40</td>\n",
       "      <td>250</td>\n",
       "    </tr>\n",
       "    <tr>\n",
       "      <th>2</th>\n",
       "      <td>90</td>\n",
       "      <td>360</td>\n",
       "    </tr>\n",
       "  </tbody>\n",
       "</table>\n",
       "</div>"
      ],
      "text/plain": [
       "    A    B\n",
       "0  10  160\n",
       "1  40  250\n",
       "2  90  360"
      ]
     },
     "execution_count": 10,
     "metadata": {},
     "output_type": "execute_result"
    }
   ],
   "source": [
    "\"\"\"Multiplicacion\"\"\"\n",
    "\n",
    "multiplicacion_df=df_1*df_2\n",
    "multiplicacion_df"
   ]
  },
  {
   "cell_type": "code",
   "execution_count": 11,
   "id": "162bc411",
   "metadata": {},
   "outputs": [
    {
     "data": {
      "text/html": [
       "<div>\n",
       "<style scoped>\n",
       "    .dataframe tbody tr th:only-of-type {\n",
       "        vertical-align: middle;\n",
       "    }\n",
       "\n",
       "    .dataframe tbody tr th {\n",
       "        vertical-align: top;\n",
       "    }\n",
       "\n",
       "    .dataframe thead th {\n",
       "        text-align: right;\n",
       "    }\n",
       "</style>\n",
       "<table border=\"1\" class=\"dataframe\">\n",
       "  <thead>\n",
       "    <tr style=\"text-align: right;\">\n",
       "      <th></th>\n",
       "      <th>A</th>\n",
       "      <th>B</th>\n",
       "    </tr>\n",
       "  </thead>\n",
       "  <tbody>\n",
       "    <tr>\n",
       "      <th>0</th>\n",
       "      <td>0.1</td>\n",
       "      <td>0.1</td>\n",
       "    </tr>\n",
       "    <tr>\n",
       "      <th>1</th>\n",
       "      <td>0.1</td>\n",
       "      <td>0.1</td>\n",
       "    </tr>\n",
       "    <tr>\n",
       "      <th>2</th>\n",
       "      <td>0.1</td>\n",
       "      <td>0.1</td>\n",
       "    </tr>\n",
       "  </tbody>\n",
       "</table>\n",
       "</div>"
      ],
      "text/plain": [
       "     A    B\n",
       "0  0.1  0.1\n",
       "1  0.1  0.1\n",
       "2  0.1  0.1"
      ]
     },
     "execution_count": 11,
     "metadata": {},
     "output_type": "execute_result"
    }
   ],
   "source": [
    "\"\"\"Division\"\"\"\n",
    "\n",
    "division_df=df_1/df_2\n",
    "division_df"
   ]
  },
  {
   "cell_type": "markdown",
   "id": "dd8e27f9",
   "metadata": {},
   "source": [
    "## Operaciones con constantes (BroadCasting)"
   ]
  },
  {
   "cell_type": "code",
   "execution_count": null,
   "id": "b2d13c40",
   "metadata": {},
   "outputs": [
    {
     "data": {
      "text/plain": [
       "0    15\n",
       "1    25\n",
       "2    35\n",
       "dtype: int64"
      ]
     },
     "execution_count": 12,
     "metadata": {},
     "output_type": "execute_result"
    }
   ],
   "source": [
    "\"\"\"Sumar una cosntante a la serie\"\"\"\n",
    "\n",
    "valor_constante = 5\n",
    "suma_constante=serie1+valor_constante\n",
    "suma_constante"
   ]
  },
  {
   "cell_type": "code",
   "execution_count": 13,
   "id": "45ff70fb",
   "metadata": {},
   "outputs": [
    {
     "data": {
      "text/plain": [
       "0    15\n",
       "1    25\n",
       "2    35\n",
       "dtype: int64"
      ]
     },
     "execution_count": 13,
     "metadata": {},
     "output_type": "execute_result"
    }
   ],
   "source": [
    "\"\"\"sumar una constante a un DataFrame\"\"\"\n",
    "\n",
    "valor_constante =2\n",
    "suma_constante_df=df_1+df_2\n",
    "suma_constante"
   ]
  },
  {
   "cell_type": "code",
   "execution_count": 14,
   "id": "bcce40ef",
   "metadata": {},
   "outputs": [
    {
     "data": {
      "text/html": [
       "<div>\n",
       "<style scoped>\n",
       "    .dataframe tbody tr th:only-of-type {\n",
       "        vertical-align: middle;\n",
       "    }\n",
       "\n",
       "    .dataframe tbody tr th {\n",
       "        vertical-align: top;\n",
       "    }\n",
       "\n",
       "    .dataframe thead th {\n",
       "        text-align: right;\n",
       "    }\n",
       "</style>\n",
       "<table border=\"1\" class=\"dataframe\">\n",
       "  <thead>\n",
       "    <tr style=\"text-align: right;\">\n",
       "      <th></th>\n",
       "      <th>A</th>\n",
       "      <th>B</th>\n",
       "    </tr>\n",
       "  </thead>\n",
       "  <tbody>\n",
       "    <tr>\n",
       "      <th>0</th>\n",
       "      <td>10</td>\n",
       "      <td>160</td>\n",
       "    </tr>\n",
       "    <tr>\n",
       "      <th>1</th>\n",
       "      <td>40</td>\n",
       "      <td>250</td>\n",
       "    </tr>\n",
       "    <tr>\n",
       "      <th>2</th>\n",
       "      <td>90</td>\n",
       "      <td>360</td>\n",
       "    </tr>\n",
       "  </tbody>\n",
       "</table>\n",
       "</div>"
      ],
      "text/plain": [
       "    A    B\n",
       "0  10  160\n",
       "1  40  250\n",
       "2  90  360"
      ]
     },
     "execution_count": 14,
     "metadata": {},
     "output_type": "execute_result"
    }
   ],
   "source": [
    "\"\"\"Multiplicacion de una constante de DataFrame\"\"\"\n",
    "\n",
    "valor_constante=2\n",
    "multiplicacion_constante_df=df_1*df_2\n",
    "multiplicacion_constante_df"
   ]
  },
  {
   "cell_type": "markdown",
   "id": "20968596",
   "metadata": {},
   "source": [
    "## Metodos aritmeticos especificos\n",
    "\n",
    "- add()\n",
    "- sub() sustraer \n",
    "- mul()\n",
    "- div()\n",
    "- fill_value() es un parametro para rellenar valores faltantes\n",
    "\n"
   ]
  },
  {
   "cell_type": "code",
   "execution_count": 18,
   "id": "fd433d33",
   "metadata": {},
   "outputs": [
    {
     "data": {
      "text/plain": [
       "b    10\n",
       "c    20\n",
       "d    30\n",
       "dtype: int64"
      ]
     },
     "execution_count": 18,
     "metadata": {},
     "output_type": "execute_result"
    }
   ],
   "source": [
    "serie3=pd.Series([1,2,3], index=['a','b','c'])\n",
    "\n",
    "serie4=pd.Series([10,20,30], index=['b','c','d'])\n",
    "serie4\n"
   ]
  },
  {
   "cell_type": "code",
   "execution_count": 20,
   "id": "d10d4fdc",
   "metadata": {},
   "outputs": [
    {
     "data": {
      "text/plain": [
       "a     NaN\n",
       "b    12.0\n",
       "c    23.0\n",
       "d     NaN\n",
       "dtype: float64"
      ]
     },
     "execution_count": 20,
     "metadata": {},
     "output_type": "execute_result"
    }
   ],
   "source": [
    "\"\"\"suma de series con indices diferentes\"\"\"\n",
    "\n",
    "suma_index_diferentes=serie3 + serie4\n",
    "suma_index_diferentes"
   ]
  },
  {
   "cell_type": "code",
   "execution_count": 24,
   "id": "05307f93",
   "metadata": {},
   "outputs": [
    {
     "data": {
      "text/plain": [
       "a     1.0\n",
       "b    12.0\n",
       "c    23.0\n",
       "d    30.0\n",
       "dtype: float64"
      ]
     },
     "execution_count": 24,
     "metadata": {},
     "output_type": "execute_result"
    }
   ],
   "source": [
    "\"\"\"usando fill_values\"\"\"\n",
    "\n",
    "suma_relleno=serie3.add(serie4,fill_value=0)\n",
    "suma_relleno"
   ]
  }
 ],
 "metadata": {
  "kernelspec": {
   "display_name": ".venv",
   "language": "python",
   "name": "python3"
  },
  "language_info": {
   "codemirror_mode": {
    "name": "ipython",
    "version": 3
   },
   "file_extension": ".py",
   "mimetype": "text/x-python",
   "name": "python",
   "nbconvert_exporter": "python",
   "pygments_lexer": "ipython3",
   "version": "3.13.5"
  }
 },
 "nbformat": 4,
 "nbformat_minor": 5
}
