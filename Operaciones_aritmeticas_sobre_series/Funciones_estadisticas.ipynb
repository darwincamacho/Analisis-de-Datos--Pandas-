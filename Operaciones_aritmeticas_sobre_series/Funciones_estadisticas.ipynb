{
 "cells": [
  {
   "cell_type": "markdown",
   "id": "898d51ad",
   "metadata": {},
   "source": [
    "## Funciones Estadisticas\n",
    "\n",
    "- Media: df['columna'].mean()\n",
    "- mediana: df['columna'].median()\n",
    "- Moda: df['columna'].mode()\n",
    "- Desviacion Estandar: ['columna'].std()\n",
    "- Varianza: df['columna']var()\n",
    "- maximo: df['columna'].max()\n",
    "- Minimo: df['columna'].min()\n",
    "Contar: df['columna'].count() #cuenta los valores que no son nulos"
   ]
  },
  {
   "cell_type": "code",
   "execution_count": 15,
   "id": "45c5e4cd",
   "metadata": {},
   "outputs": [],
   "source": [
    "import pandas as pd\n",
    "\n",
    "data={\n",
    "    'A':[10,20,30,40,50],\n",
    "    'B':[5,15,35,35,45],\n",
    "    'C':[100,200,300,400,500]\n",
    "}\n",
    "df=pd.DataFrame(data)"
   ]
  },
  {
   "cell_type": "code",
   "execution_count": 3,
   "id": "33fc2e16",
   "metadata": {},
   "outputs": [
    {
     "data": {
      "text/plain": [
       "A     30.0\n",
       "B     25.0\n",
       "C    300.0\n",
       "dtype: float64"
      ]
     },
     "execution_count": 3,
     "metadata": {},
     "output_type": "execute_result"
    }
   ],
   "source": [
    "\"\"\"Media (promedio)\"\"\"\n",
    "media_arit=df.mean()\n",
    "media_arit"
   ]
  },
  {
   "cell_type": "code",
   "execution_count": 6,
   "id": "222e2d2b",
   "metadata": {},
   "outputs": [
    {
     "data": {
      "text/plain": [
       "np.float64(30.0)"
      ]
     },
     "execution_count": 6,
     "metadata": {},
     "output_type": "execute_result"
    }
   ],
   "source": [
    "\"\"\"Media de la columna A\"\"\"\n",
    "\n",
    "media_arit=df['A'].mean()\n",
    "media_arit"
   ]
  },
  {
   "cell_type": "code",
   "execution_count": 11,
   "id": "7596b252",
   "metadata": {},
   "outputs": [
    {
     "data": {
      "text/plain": [
       "np.float64(30.0)"
      ]
     },
     "execution_count": 11,
     "metadata": {},
     "output_type": "execute_result"
    }
   ],
   "source": [
    "\"\"\"Calculo de la mediana\"\"\"\n",
    "\n",
    "mediana_arit=df['A'].median()\n",
    "mediana_arit"
   ]
  },
  {
   "cell_type": "code",
   "execution_count": 16,
   "id": "e43f9a20",
   "metadata": {},
   "outputs": [
    {
     "data": {
      "text/plain": [
       "0    35\n",
       "Name: B, dtype: int64"
      ]
     },
     "execution_count": 16,
     "metadata": {},
     "output_type": "execute_result"
    }
   ],
   "source": [
    "\"\"\"Calculo de la moda\"\"\"\n",
    "\n",
    "moda_arit=df['B'].mode()\n",
    "moda_arit"
   ]
  },
  {
   "cell_type": "code",
   "execution_count": null,
   "id": "8bf426fb",
   "metadata": {},
   "outputs": [
    {
     "data": {
      "text/plain": [
       "np.float64(15.811388300841896)"
      ]
     },
     "execution_count": 18,
     "metadata": {},
     "output_type": "execute_result"
    }
   ],
   "source": [
    "\"\"\"Desviacion Estandar\"\"\"\n",
    "\n",
    "des_est=df['A'].std()\n",
    "des_est\n",
    "\n",
    "#cuando el valor de la desviacion es muy alta, quiere decir que los datos estan muy dispersos"
   ]
  },
  {
   "cell_type": "code",
   "execution_count": null,
   "id": "b0d81cdb",
   "metadata": {},
   "outputs": [
    {
     "data": {
      "text/plain": [
       "np.float64(250.0)"
      ]
     },
     "execution_count": 19,
     "metadata": {},
     "output_type": "execute_result"
    }
   ],
   "source": [
    "\"\"\"Calculo de la Varianza (promedio de la diferencia al cuadrado entre cada punto de datos y la media)\"\"\"\n",
    "\n",
    "var_est=df['A'].var()\n",
    "var_est"
   ]
  },
  {
   "cell_type": "code",
   "execution_count": 21,
   "id": "2b933432",
   "metadata": {},
   "outputs": [
    {
     "data": {
      "text/plain": [
       "A    5\n",
       "B    5\n",
       "C    5\n",
       "dtype: int64"
      ]
     },
     "execution_count": 21,
     "metadata": {},
     "output_type": "execute_result"
    }
   ],
   "source": [
    "\"\"\"Contar los valores de cada serie\"\"\"\n",
    "\n",
    "contar_series=df.count()\n",
    "contar_series"
   ]
  }
 ],
 "metadata": {
  "kernelspec": {
   "display_name": ".venv",
   "language": "python",
   "name": "python3"
  },
  "language_info": {
   "codemirror_mode": {
    "name": "ipython",
    "version": 3
   },
   "file_extension": ".py",
   "mimetype": "text/x-python",
   "name": "python",
   "nbconvert_exporter": "python",
   "pygments_lexer": "ipython3",
   "version": "3.13.5"
  }
 },
 "nbformat": 4,
 "nbformat_minor": 5
}
