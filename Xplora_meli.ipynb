{
 "cells": [
  {
   "cell_type": "markdown",
   "id": "a2c1c49b",
   "metadata": {},
   "source": [
    "## consolidación de hojas"
   ]
  },
  {
   "cell_type": "code",
   "execution_count": 7,
   "id": "0895edc7",
   "metadata": {},
   "outputs": [],
   "source": [
    "import pandas as pd\n",
    "\n",
    "file_path = \"Introduccion_Pandas/Bases_datos/CASO PRACTICO ANALISTA XPLORA MELI.xlsx\"\n",
    "\n",
    "df_generales = pd.read_excel(file_path, sheet_name=\"DATOS GENERALES\")\n",
    "df_ventas = pd.read_excel(file_path, sheet_name=\"REPORTE DE VENTAS\")\n",
    "\n",
    "df_final = pd.merge(df_generales, df_ventas, on=\"Comercio\", how=\"inner\")\n",
    "\n",
    "with pd.ExcelWriter(file_path, engine=\"openpyxl\", mode=\"a\", if_sheet_exists=\"replace\") as writer:\n",
    "    df_final.to_excel(writer, sheet_name=\"CONSOLIDADO\", index=False)\n"
   ]
  }
 ],
 "metadata": {
  "kernelspec": {
   "display_name": ".venv",
   "language": "python",
   "name": "python3"
  },
  "language_info": {
   "codemirror_mode": {
    "name": "ipython",
    "version": 3
   },
   "file_extension": ".py",
   "mimetype": "text/x-python",
   "name": "python",
   "nbconvert_exporter": "python",
   "pygments_lexer": "ipython3",
   "version": "3.13.5"
  }
 },
 "nbformat": 4,
 "nbformat_minor": 5
}
