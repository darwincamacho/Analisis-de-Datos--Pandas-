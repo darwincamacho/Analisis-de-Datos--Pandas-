{
 "cells": [
  {
   "cell_type": "markdown",
   "id": "a1acd973",
   "metadata": {},
   "source": [
    "# **Ejercicios de la clase 2 de series y DataFrames\n",
    "\n",
    "Una serie en pandas es una estructura de datos unidimensional muy similar a un array de una sola columna"
   ]
  },
  {
   "cell_type": "code",
   "execution_count": null,
   "id": "4e84ed9c",
   "metadata": {},
   "outputs": [
    {
     "data": {
      "text/plain": [
       "0     0\n",
       "1     1\n",
       "2     4\n",
       "3     9\n",
       "4    16\n",
       "dtype: int64"
      ]
     },
     "execution_count": 6,
     "metadata": {},
     "output_type": "execute_result"
    }
   ],
   "source": [
    "import pandas as pd\n",
    "\n",
    "\"\"\"Crear una serie a partir de una lista (programacion imperativa)\"\"\"\n",
    "\n",
    "serie=pd.Series([10,20,30,40,50],name='valores')\n",
    "#serie\n",
    "\n",
    "\"\"\"Crear una serie a partir del diccionario\"\"\"\n",
    "diccionario={\n",
    "    'a':1,\n",
    "    'b':2,\n",
    "    'c':3,\n",
    "    '4':4\n",
    "}\n",
    "serie_diccionario=pd.Series(diccionario)\n",
    "#serie_diccionario\n",
    "\n",
    "\"\"\"Crear una serie a partir de una lista que provenga de una funsion matematica\"\"\"\n",
    "\n",
    "serie_funcion=pd.Series([x**2 for x in range(5)])\n",
    "serie_funcion"
   ]
  }
 ],
 "metadata": {
  "kernelspec": {
   "display_name": ".venv",
   "language": "python",
   "name": "python3"
  },
  "language_info": {
   "codemirror_mode": {
    "name": "ipython",
    "version": 3
   },
   "file_extension": ".py",
   "mimetype": "text/x-python",
   "name": "python",
   "nbconvert_exporter": "python",
   "pygments_lexer": "ipython3",
   "version": "3.13.5"
  }
 },
 "nbformat": 4,
 "nbformat_minor": 5
}
